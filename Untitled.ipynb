{
 "cells": [
  {
   "cell_type": "code",
   "execution_count": 10,
   "id": "8f8ceb43-084f-40c8-aba9-8774a36534a2",
   "metadata": {
    "scrolled": true
   },
   "outputs": [
    {
     "name": "stdout",
     "output_type": "stream",
     "text": [
      "[2, 4, (4, 5, 6), 7]\n",
      "5\n"
     ]
    }
   ],
   "source": [
    "lista = [2,4,4,(4,5,6),7,7]\n",
    "var1 = lista[3][1]\n",
    "tupli = set(lista)\n",
    "lista2 = list(set(lista))\n",
    "print(lista2)\n",
    "print(var1)"
   ]
  },
  {
   "cell_type": "code",
   "execution_count": 20,
   "id": "77be41c4-a37e-468a-b5a6-b2feae74e919",
   "metadata": {},
   "outputs": [
    {
     "name": "stdout",
     "output_type": "stream",
     "text": [
      "[[1, 2, 3], (4, 5, 6), {'color': 'rojo', 'tamaño': 350, 'dueno': True}]\n"
     ]
    }
   ],
   "source": [
    "def cambiazo(lista, tupla, diccionario):\n",
    "    for i in lista, tupla, diccionario:\n",
    "        return[lista, tupla, diccionario]\n",
    "        \n",
    "asa = cambiazo([1,2,3], (4,5,6), {'color': 'rojo', 'tamaño': 350, 'dueno' : True})\n",
    "print(asa)"
   ]
  },
  {
   "cell_type": "code",
   "execution_count": 29,
   "id": "5193c7b7-0f16-4045-b310-ddcabcd5218d",
   "metadata": {},
   "outputs": [
    {
     "name": "stdout",
     "output_type": "stream",
     "text": [
      "1\n"
     ]
    }
   ],
   "source": [
    "def ifs(num):\n",
    "    if num == 1:\n",
    "        out = 1\n",
    "    else:\n",
    "        out = num\n",
    "    return out\n",
    "asa = ifs(1)\n",
    "print(asa)"
   ]
  },
  {
   "cell_type": "code",
   "execution_count": 30,
   "id": "b581dc1f-bec8-4dc8-8869-a8a43272e586",
   "metadata": {},
   "outputs": [
    {
     "name": "stdin",
     "output_type": "stream",
     "text": [
      "ingrese una lista de tres numeros 2,3,4\n"
     ]
    },
    {
     "name": "stdout",
     "output_type": "stream",
     "text": [
      "<class 'str'>\n"
     ]
    },
    {
     "ename": "TypeError",
     "evalue": "'type' object is not iterable",
     "output_type": "error",
     "traceback": [
      "\u001b[1;31m---------------------------------------------------------------------------\u001b[0m",
      "\u001b[1;31mTypeError\u001b[0m                                 Traceback (most recent call last)",
      "Cell \u001b[1;32mIn[30], line 4\u001b[0m\n\u001b[0;32m      2\u001b[0m \u001b[38;5;28mprint\u001b[39m(\u001b[38;5;28mtype\u001b[39m(numeros))\n\u001b[0;32m      3\u001b[0m lista \u001b[38;5;241m=\u001b[39m numeros\u001b[38;5;241m.\u001b[39msplit(\u001b[38;5;124m'\u001b[39m\u001b[38;5;124m,\u001b[39m\u001b[38;5;124m'\u001b[39m)\n\u001b[1;32m----> 4\u001b[0m suma \u001b[38;5;241m=\u001b[39m \u001b[38;5;28;43msum\u001b[39;49m\u001b[43m(\u001b[49m\u001b[38;5;28;43mlist\u001b[39;49m\u001b[43m)\u001b[49m\n\u001b[0;32m      5\u001b[0m \u001b[38;5;28mprint\u001b[39m(suma)\n\u001b[0;32m      6\u001b[0m \u001b[38;5;28mprint\u001b[39m(\u001b[38;5;28mmax\u001b[39m(lista))\n",
      "\u001b[1;31mTypeError\u001b[0m: 'type' object is not iterable"
     ]
    }
   ],
   "source": [
    "numeros = (input(\"ingrese una lista de tres numeros\"))\n",
    "print(type(numeros))\n",
    "lista = numeros.split(',')\n",
    "suma = sum(list)\n",
    "print(suma)\n",
    "print(max(lista))\n",
    "print(min(lista))\n",
    "maxim = int(max(lista))\n",
    "minim = int(min(lista))\n",
    "maxim - minim == suma / 5\n"
   ]
  },
  {
   "cell_type": "code",
   "execution_count": null,
   "id": "158c5e28-a6b1-40b2-9868-99d8b14ed99a",
   "metadata": {},
   "outputs": [],
   "source": [
    "lista ="
   ]
  }
 ],
 "metadata": {
  "kernelspec": {
   "display_name": "Python 3 (ipykernel)",
   "language": "python",
   "name": "python3"
  },
  "language_info": {
   "codemirror_mode": {
    "name": "ipython",
    "version": 3
   },
   "file_extension": ".py",
   "mimetype": "text/x-python",
   "name": "python",
   "nbconvert_exporter": "python",
   "pygments_lexer": "ipython3",
   "version": "3.10.11"
  }
 },
 "nbformat": 4,
 "nbformat_minor": 5
}
