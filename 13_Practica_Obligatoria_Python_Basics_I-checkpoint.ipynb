{
 "cells": [
  {
   "cell_type": "markdown",
   "metadata": {
    "id": "BNCAebJANPxq"
   },
   "source": [
    "![TheBridge_logo_RGB_color.jpg](attachment:TheBridge_logo_RGB_color.jpg)"
   ]
  },
  {
   "cell_type": "markdown",
   "metadata": {
    "id": "A9eDZvZaNPxs"
   },
   "source": [
    "![imagen](./img/ejercicios.png)"
   ]
  },
  {
   "cell_type": "markdown",
   "metadata": {
    "id": "59zPhBxXNPxs"
   },
   "source": [
    "## PRACTICA OBLIGATORIA: PYTHON"
   ]
  },
  {
   "cell_type": "markdown",
   "metadata": {
    "id": "mv2kb1GMNPxs"
   },
   "source": [
    "* La práctica obligatoria de esta unidad consiste en dos ejercicios de programación libre a completar.   \n",
    "* Recuerda que debes subirla a tu repositorio personal antes de la sesión en vivo para que puntúe adecuadamente.  \n",
    "* Recuerda también que no es necesario que esté perfecta, sólo es necesario que se vea el esfuerzo.\n",
    "* Esta práctica se resolverá en la sesión en vivo correspondiente y la solución se publicará en el repo del curso."
   ]
  },
  {
   "cell_type": "markdown",
   "metadata": {
    "id": "Kl9JzST2NPxt"
   },
   "source": [
    "![ejercicio.png](./img/ejercicio.png)\n",
    "## PARTE I\n",
    "\n",
    "En este ejercicio debes simular un chatbot al que le haremos pedidos de pizzas.\n",
    "\n",
    "1. El chatbot tiene que saludar con un: \"Buenas tardes, bienvenido al servicio de pedido online, el precio de nuestra pizzas es de 8,95 para la familiar o de 9,90 para la mediana ¿Cuántas pizzas  familiares desea?\"\n",
    "2. El ususario tiene que introducir un número de pizzas en una variable llamada 'pizz_familiar'\n",
    "3. El chatbot debe responder: \"Estupendo, ¿cuántas pizzas medianas desea?\" y guardar el número de pizzas medianas en otra variable 'pizz_mediana'\n",
    "4. Además debe responder del chatbot: \"Estupendo, se están preparando 'pizz' pizzas familiares y 'pizz_mediana' pizzas medianas. Digame su dirección\"\n",
    "5. El ususario tiene que introducir una direccion en formato String en otra variable llamada 'direcc'\n",
    "6. El programa debe calcular el monto total\n",
    "7. Respuesta final del chatbot: \"Le mandaremos las '(número total de pizzas)' pizzas a la dirección 'direcc'. Serán <precio total a pagar en euros>. Muchas gracias por su pedido.\"\n",
    "         \n"
   ]
  },
  {
   "cell_type": "code",
   "execution_count": 1,
   "metadata": {
    "id": "qkKibyt-NPxt"
   },
   "outputs": [
    {
     "name": "stdin",
     "output_type": "stream",
     "text": [
      "Buenas tardes, bienvenido al servicio de pedido online, el precio de nuestra pizzas es de 8,95 para la familiar o de 9,90 para la mediana ¿Cuántas pizzas familiares desea? 2\n",
      "Estupendo, ¿cuántas pizzas medianas desea? 4\n",
      "('Estupendo, se están preparando', '2', 'pizzas familiares y ', '4', 'pizzas medianas. Indique su direccion') avenida de Bruselas\n"
     ]
    },
    {
     "name": "stdout",
     "output_type": "stream",
     "text": [
      "Le mandaremos las 6 pizzas a la direccion avenida de Bruselas seran 57.5 euros. Muchas gracias por su pedido\n"
     ]
    }
   ],
   "source": [
    "pizz_familiar = input(\"Buenas tardes, bienvenido al servicio de pedido online, el precio de nuestra pizzas es de 8,95 para la familiar o de 9,90 para la mediana ¿Cuántas pizzas familiares desea?\")\n",
    "pizz_mediana = input( \"Estupendo, ¿cuántas pizzas medianas desea?\")\n",
    "direccion = \"Estupendo, se están preparando\", pizz_familiar, \"pizzas familiares y \" ,pizz_mediana,  \"pizzas medianas. Indique su direccion\"\n",
    "adress = input(direccion)\n",
    "pizz_fam = int(pizz_familiar)\n",
    "pizz_media = int(pizz_mediana)\n",
    "pizz_total = pizz_fam + pizz_media\n",
    "coste_total = pizz_fam *  8.95 + pizz_media * 9.9\n",
    "print(\"Le mandaremos las\", pizz_total, \"pizzas a la direccion\", adress, \"seran\", coste_total, \"euros. Muchas gracias por su pedido\")"
   ]
  },
  {
   "cell_type": "markdown",
   "metadata": {
    "id": "f0oqoGDGNPxt"
   },
   "source": [
    "![ejercicio.png](./img/ejercicio.png)\n",
    "## Parte II\n",
    "\n",
    "Crea un programa que realice las siguientes acciones:\n",
    "\n",
    "1. Solicite al usuario que introduzca 3 números enteros separados por comas (por ejemplo: 1,2,3).\n",
    "2. Convierta esa entrada en una lista de números enteros.\n",
    "3. Utilizando funciones built-in, determine el número máximo, el número mínimo y la suma total de los números introducidos.\n",
    "4. Determine la verdad o falsedad de la siguiente afirmación: \"El número máximo menos el número mínimo es igual a la suma total dividida por 5\".\n",
    "5. Muestre los resultados utilizando print."
   ]
  },
  {
   "cell_type": "code",
   "execution_count": 3,
   "metadata": {
    "id": "rAlpWiQ9NPxt"
   },
   "outputs": [
    {
     "name": "stdin",
     "output_type": "stream",
     "text": [
      "ingrese una lista de tres numeros 1,2,3\n"
     ]
    },
    {
     "name": "stdout",
     "output_type": "stream",
     "text": [
      "<class 'str'>\n",
      "6\n",
      "3\n",
      "1\n"
     ]
    },
    {
     "data": {
      "text/plain": [
       "False"
      ]
     },
     "execution_count": 3,
     "metadata": {},
     "output_type": "execute_result"
    }
   ],
   "source": [
    "numeros = (input(\"ingrese una lista de tres numeros\"))\n",
    "print(type(numeros))\n",
    "lista = numeros.split(',')\n",
    "#print(lista)\n",
    "num_1 = lista[0]\n",
    "w1 = int(num_1)\n",
    "num_2 = lista[1]\n",
    "w2  = int(num_2)\n",
    "num_3 = lista[-1]\n",
    "w3 = int(num_3)\n",
    "suma = w1 + w2 +w3\n",
    "print(suma)\n",
    "print(max(lista))\n",
    "print(min(lista))\n",
    "maxim = int(max(lista))\n",
    "minim = int(min(lista))\n",
    "maxim - minim == suma / 5\n"
   ]
  },
  {
   "cell_type": "code",
   "execution_count": null,
   "metadata": {},
   "outputs": [],
   "source": []
  }
 ],
 "metadata": {
  "colab": {
   "provenance": []
  },
  "kernelspec": {
   "display_name": "Python 3 (ipykernel)",
   "language": "python",
   "name": "python3"
  },
  "language_info": {
   "codemirror_mode": {
    "name": "ipython",
    "version": 3
   },
   "file_extension": ".py",
   "mimetype": "text/x-python",
   "name": "python",
   "nbconvert_exporter": "python",
   "pygments_lexer": "ipython3",
   "version": "3.10.11"
  }
 },
 "nbformat": 4,
 "nbformat_minor": 4
}
